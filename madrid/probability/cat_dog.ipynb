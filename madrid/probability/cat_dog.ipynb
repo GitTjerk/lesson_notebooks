{
 "cells": [
  {
   "cell_type": "code",
   "execution_count": 11,
   "metadata": {},
   "outputs": [
    {
     "data": {
      "text/plain": [
       "(0, 30)"
      ]
     },
     "execution_count": 11,
     "metadata": {},
     "output_type": "execute_result"
    },
    {
     "data": {
      "image/png": "[encoded data removed]",
      "text/plain": [
       "<Figure size 720x720 with 1 Axes>"
      ]
     },
     "metadata": {
      "needs_background": "light"
     },
     "output_type": "display_data"
    }
   ],
   "source": [
    "%matplotlib inline\n",
    "import matplotlib.pyplot as plt\n",
    "import numpy as np \n",
    "import math\n",
    "\n",
    "x = np.random.normal(10,5,3)\n",
    "y = np.random.normal(10,2,3)\n",
    "x1 = np.random.normal(20,1,3)\n",
    "y1 = np.random.normal(13,1,3)\n",
    "\n",
    "plt.figure(figsize=(10,10))\n",
    "c = plt.Circle((20, 3), 5, color='r', fill=False)\n",
    "ax = plt.gca()\n",
    "ax.add_artist(c)\n",
    "plt.scatter(x,y)\n",
    "plt.scatter(x1,y1)\n",
    "axes = plt.gca()\n",
    "axes.set_xlim([0,30])\n",
    "axes.set_ylim([0,30])\n",
    "# a*x**2+b*x+c"
   ]
  },
  {
   "cell_type": "code",
   "execution_count": 2,
   "metadata": {},
   "outputs": [
    {
     "data": {
      "text/plain": [
       "(4096, 80)"
      ]
     },
     "metadata": {},
     "output_type": "display_data"
    },
    {
     "data": {
      "text/plain": [
       "0       64\n",
       "1       64\n",
       "2       64\n",
       "3       64\n",
       "4       64\n",
       "5       77\n",
       "6       77\n",
       "7       77\n",
       "8       77\n",
       "9       77\n",
       "10      77\n",
       "11      77\n",
       "12      64\n",
       "13      64\n",
       "14      64\n",
       "15      61\n",
       "16      61\n",
       "17      64\n",
       "18      64\n",
       "19      64\n",
       "20      61\n",
       "21      61\n",
       "22      61\n",
       "23      64\n",
       "24      64\n",
       "25      61\n",
       "26      61\n",
       "27      61\n",
       "28      64\n",
       "29      64\n",
       "        ..\n",
       "4066    61\n",
       "4067    47\n",
       "4068    47\n",
       "4069    47\n",
       "4070    38\n",
       "4071    38\n",
       "4072    38\n",
       "4073    38\n",
       "4074    47\n",
       "4075    47\n",
       "4076    47\n",
       "4077    61\n",
       "4078    61\n",
       "4079    64\n",
       "4080    64\n",
       "4081    64\n",
       "4082    61\n",
       "4083    64\n",
       "4084    64\n",
       "4085    64\n",
       "4086    64\n",
       "4087    64\n",
       "4088    77\n",
       "4089    77\n",
       "4090    64\n",
       "4091    77\n",
       "4092    77\n",
       "4093    64\n",
       "4094    64\n",
       "4095    61\n",
       "Name: 0, Length: 4096, dtype: int64"
      ]
     },
     "execution_count": 2,
     "metadata": {},
     "output_type": "execute_result"
    }
   ],
   "source": [
    "import pandas as pd\n",
    "df = pd.read_csv(\"~/Desktop/cat.csv\",header=None)\n",
    "display(df.shape)\n",
    "df.transpose().iloc[0]"
   ]
  },
  {
   "cell_type": "code",
   "execution_count": 7,
   "metadata": {},
   "outputs": [
    {
     "name": "stdout",
     "output_type": "stream",
     "text": [
      "[[64 64 64 ... 64 64 61]\n",
      " [64 64 77 ... 64 64 61]\n",
      " [64 64 64 ... 64 64 61]\n",
      " ...\n",
      " [77 77 77 ... 64 64 64]\n",
      " [64 64 64 ... 64 64 64]\n",
      " [64 64 77 ... 61 61 61]]\n"
     ]
    },
    {
     "data": {
      "text/plain": [
       "<matplotlib.image.AxesImage at 0x10eb26cf8>"
      ]
     },
     "execution_count": 7,
     "metadata": {},
     "output_type": "execute_result"
    },
    {
     "data": {
      "image/png": "[encoded data removed]",
      "text/plain": [
       "<Figure size 432x288 with 1 Axes>"
      ]
     },
     "metadata": {
      "needs_background": "light"
     },
     "output_type": "display_data"
    }
   ],
   "source": [
    "img = np.array(df.transpose().iloc[0]).reshape(64, 64).T\n",
    "print(img)\n",
    "import matplotlib.pyplot as plt\n",
    "%matplotlib inline\n",
    "fig, ax = plt.subplots()\n",
    "ax.imshow(img, cmap=plt.cm.bone, interpolation='nearest')"
   ]
  },
  {
   "cell_type": "code",
   "execution_count": null,
   "metadata": {},
   "outputs": [],
   "source": []
  },
  {
   "cell_type": "code",
   "execution_count": null,
   "metadata": {},
   "outputs": [],
   "source": []
  }
 ],
 "metadata": {
  "kernelspec": {
   "display_name": "Python 3",
   "language": "python",
   "name": "python3"
  },
  "language_info": {
   "codemirror_mode": {
    "name": "ipython",
    "version": 3
   },
   "file_extension": ".py",
   "mimetype": "text/x-python",
   "name": "python",
   "nbconvert_exporter": "python",
   "pygments_lexer": "ipython3",
   "version": "3.7.0"
  }
 },
 "nbformat": 4,
 "nbformat_minor": 2
}
