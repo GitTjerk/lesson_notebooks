{
 "cells": [
  {
   "cell_type": "code",
   "execution_count": 6,
   "metadata": {},
   "outputs": [],
   "source": [
    "import re"
   ]
  },
  {
   "cell_type": "code",
   "execution_count": 7,
   "metadata": {},
   "outputs": [],
   "source": [
    "song = \"\"\"Can’t get you off my mind\n",
    "Look at me and you will find\n",
    "Time after time it seems\n",
    "I’ll say what I don’t mean\n",
    "\n",
    "In your world we were the same\n",
    "In mine now you’re the one to blame\n",
    "You can’t remember my name\n",
    "We’re lost, it’s such a shame\n",
    "\n",
    "Listen to me\n",
    "Stop making me see\n",
    "What I’ve been waiting for\n",
    "Listen to me\n",
    "Stop making me see\n",
    "\n",
    "I’m strong yet proud\n",
    "I’m quiet yet loud\n",
    "And I’m everything\n",
    "You want in me\n",
    "I’m small yet tall\n",
    "I have it all\n",
    "And I’m everything\n",
    "You want me to be\n",
    "\n",
    "Listen to me\n",
    "Stop making me see\n",
    "What I’ve been waiting for\n",
    "Listen to me\n",
    "Stop making me see\n",
    "\n",
    "And I still feel like\n",
    "I need you still\n",
    "And I still feel like\n",
    "I’m on some pill\n",
    "And I still feel like\n",
    "I need you still\n",
    "\"\"\""
   ]
  },
  {
   "cell_type": "code",
   "execution_count": 11,
   "metadata": {},
   "outputs": [],
   "source": [
    "r = re.search(\"\\s\", song)"
   ]
  },
  {
   "cell_type": "code",
   "execution_count": 12,
   "metadata": {},
   "outputs": [
    {
     "data": {
      "text/plain": [
       "0"
      ]
     },
     "execution_count": 12,
     "metadata": {},
     "output_type": "execute_result"
    }
   ],
   "source": [
    "r.pos"
   ]
  },
  {
   "cell_type": "code",
   "execution_count": null,
   "metadata": {},
   "outputs": [],
   "source": []
  }
 ],
 "metadata": {
  "kernelspec": {
   "display_name": "Python 3",
   "language": "python",
   "name": "python3"
  },
  "language_info": {
   "codemirror_mode": {
    "name": "ipython",
    "version": 3
   },
   "file_extension": ".py",
   "mimetype": "text/x-python",
   "name": "python",
   "nbconvert_exporter": "python",
   "pygments_lexer": "ipython3",
   "version": "3.7.1"
  }
 },
 "nbformat": 4,
 "nbformat_minor": 2
}
