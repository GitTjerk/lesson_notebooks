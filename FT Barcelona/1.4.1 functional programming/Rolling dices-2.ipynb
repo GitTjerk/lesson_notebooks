{
 "cells": [
  {
   "cell_type": "code",
   "execution_count": 2,
   "metadata": {},
   "outputs": [],
   "source": [
    "import random"
   ]
  },
  {
   "cell_type": "code",
   "execution_count": 3,
   "metadata": {},
   "outputs": [],
   "source": [
    "def roll_the_dice(stop = 6):\n",
    "    if stop != 6:\n",
    "        stop = int(input(\"What is the last number of your dice? \"))\n",
    "    dice_result = random.randrange(1, stop)\n",
    "    print(f\"You got a {dice_result}!\")"
   ]
  },
  {
   "cell_type": "code",
   "execution_count": 4,
   "metadata": {},
   "outputs": [],
   "source": [
    "def roll_the_dice_many_times(times = 1):\n",
    "    for i in range(times):\n",
    "        roll_the_dice()"
   ]
  },
  {
   "cell_type": "markdown",
   "metadata": {},
   "source": [
    "### Not let's assume, each time we are opening the notebook we want to select the dice we are using the same dice "
   ]
  },
  {
   "cell_type": "markdown",
   "metadata": {},
   "source": [
    "We can use global variables"
   ]
  },
  {
   "cell_type": "code",
   "execution_count": 25,
   "metadata": {},
   "outputs": [],
   "source": [
    "MY_DICE_TODAY = 6"
   ]
  },
  {
   "cell_type": "code",
   "execution_count": 26,
   "metadata": {},
   "outputs": [],
   "source": [
    "def roll_the_dice(stop = MY_DICE_TODAY):\n",
    "    if stop != 6:\n",
    "        stop = int(input(\"What is the last number of your dice? \"))\n",
    "    dice_result = random.randrange(1, stop)\n",
    "    print(f\"You got a {dice_result}!\")"
   ]
  },
  {
   "cell_type": "code",
   "execution_count": 27,
   "metadata": {},
   "outputs": [],
   "source": [
    "def roll_the_dice_many_times(times = 1):\n",
    "    for i in range(times):\n",
    "        roll_the_dice()"
   ]
  },
  {
   "cell_type": "code",
   "execution_count": 28,
   "metadata": {},
   "outputs": [
    {
     "name": "stdout",
     "output_type": "stream",
     "text": [
      "You got a 4!\n",
      "You got a 3!\n",
      "You got a 1!\n",
      "You got a 4!\n",
      "You got a 4!\n",
      "You got a 2!\n",
      "You got a 3!\n",
      "You got a 4!\n",
      "You got a 1!\n",
      "You got a 2!\n"
     ]
    }
   ],
   "source": [
    "roll_the_dice_many_times(times = 10)"
   ]
  },
  {
   "cell_type": "markdown",
   "metadata": {},
   "source": [
    "Changing the global variable"
   ]
  },
  {
   "cell_type": "code",
   "execution_count": 35,
   "metadata": {},
   "outputs": [],
   "source": [
    "MY_DICE_TODAY = 8"
   ]
  },
  {
   "cell_type": "code",
   "execution_count": 36,
   "metadata": {},
   "outputs": [
    {
     "name": "stdout",
     "output_type": "stream",
     "text": [
      "You got a 6!\n"
     ]
    }
   ],
   "source": [
    "roll_the_dice_many_times(times = 1)"
   ]
  },
  {
   "cell_type": "code",
   "execution_count": 37,
   "metadata": {},
   "outputs": [],
   "source": [
    "def roll_the_dice(stop = MY_DICE_TODAY):\n",
    "    if stop != MY_DICE_TODAY:\n",
    "        stop = int(input(\"What is the last number of your dice? \"))\n",
    "    dice_result = random.randrange(1, stop)\n",
    "    print(f\"You got a {dice_result}!\")"
   ]
  },
  {
   "cell_type": "code",
   "execution_count": 39,
   "metadata": {},
   "outputs": [
    {
     "name": "stdout",
     "output_type": "stream",
     "text": [
      "You got a 7!\n"
     ]
    }
   ],
   "source": [
    "roll_the_dice_many_times(times = 1)"
   ]
  },
  {
   "cell_type": "code",
   "execution_count": 42,
   "metadata": {},
   "outputs": [],
   "source": [
    "MY_DICE_TODAY = 10\n",
    "def roll_the_dice(stop = MY_DICE_TODAY):\n",
    "    if stop != MY_DICE_TODAY:\n",
    "        stop = int(input(\"What is the last number of your dice? \"))\n",
    "    dice_result = random.randrange(1, stop)\n",
    "    print(f\"You got a {dice_result}!\")"
   ]
  },
  {
   "cell_type": "code",
   "execution_count": 44,
   "metadata": {},
   "outputs": [
    {
     "name": "stdout",
     "output_type": "stream",
     "text": [
      "You got a 6!\n",
      "You got a 4!\n",
      "You got a 2!\n",
      "You got a 3!\n",
      "You got a 7!\n",
      "You got a 3!\n",
      "You got a 9!\n"
     ]
    }
   ],
   "source": [
    "roll_the_dice_many_times(times = 7)"
   ]
  },
  {
   "cell_type": "markdown",
   "metadata": {},
   "source": [
    "But sometimes, we want to be able to change the value of the stop in roll_the_dice_many_times, can we do it? We need \n",
    "to pass that argument..."
   ]
  },
  {
   "cell_type": "markdown",
   "metadata": {},
   "source": [
    "We want something like\n",
    "\n",
    "`roll_the_dice_many_times(times = 7, stop = )`\n"
   ]
  },
  {
   "cell_type": "code",
   "execution_count": 48,
   "metadata": {},
   "outputs": [
    {
     "ename": "SyntaxError",
     "evalue": "non-default argument follows default argument (<ipython-input-48-57fc8a2c13d1>, line 1)",
     "output_type": "error",
     "traceback": [
      "\u001b[0;36m  File \u001b[0;32m\"<ipython-input-48-57fc8a2c13d1>\"\u001b[0;36m, line \u001b[0;32m1\u001b[0m\n\u001b[0;31m    def roll_the_dice_many_times(times = 1, stop):\u001b[0m\n\u001b[0m                                ^\u001b[0m\n\u001b[0;31mSyntaxError\u001b[0m\u001b[0;31m:\u001b[0m non-default argument follows default argument\n"
     ]
    }
   ],
   "source": [
    "def roll_the_dice_many_times(times = 1, stop):\n",
    "    for i in range(times):\n",
    "        roll_the_dice(stop)"
   ]
  },
  {
   "cell_type": "code",
   "execution_count": 49,
   "metadata": {},
   "outputs": [],
   "source": [
    "def roll_the_dice_many_times(stop, times = 1):\n",
    "    for i in range(times):\n",
    "        roll_the_dice(stop)"
   ]
  },
  {
   "cell_type": "code",
   "execution_count": 50,
   "metadata": {},
   "outputs": [
    {
     "name": "stdout",
     "output_type": "stream",
     "text": [
      "What is the last number of your dice? 6\n",
      "You got a 1!\n"
     ]
    }
   ],
   "source": [
    "roll_the_dice_many_times(stop = 6, times = 1)"
   ]
  },
  {
   "cell_type": "code",
   "execution_count": 51,
   "metadata": {},
   "outputs": [],
   "source": [
    "def roll_the_dice(stop = MY_DICE_TODAY):\n",
    "    dice_result = random.randrange(1, stop)\n",
    "    print(f\"You got a {dice_result}!\")"
   ]
  },
  {
   "cell_type": "code",
   "execution_count": 52,
   "metadata": {},
   "outputs": [
    {
     "name": "stdout",
     "output_type": "stream",
     "text": [
      "You got a 3!\n"
     ]
    }
   ],
   "source": [
    "roll_the_dice_many_times(stop = 6, times = 1)"
   ]
  },
  {
   "cell_type": "code",
   "execution_count": 54,
   "metadata": {},
   "outputs": [],
   "source": [
    "MY_DICE_TODAY = 10\n",
    "\n",
    "def roll_the_dice(stop = MY_DICE_TODAY):\n",
    "    dice_result = random.randrange(1, stop)\n",
    "    print(f\"You got a {dice_result}!\")\n",
    "    \n",
    "    \n",
    "def roll_the_dice_many_times(stop, times = 1):\n",
    "    for i in range(times):\n",
    "        roll_the_dice(stop)\n",
    "\n"
   ]
  },
  {
   "cell_type": "code",
   "execution_count": 58,
   "metadata": {},
   "outputs": [
    {
     "name": "stdout",
     "output_type": "stream",
     "text": [
      "You got a 1!\n"
     ]
    }
   ],
   "source": [
    "roll_the_dice_many_times()"
   ]
  },
  {
   "cell_type": "code",
   "execution_count": 56,
   "metadata": {},
   "outputs": [],
   "source": [
    "MY_DICE_TODAY = 10\n",
    "\n",
    "def roll_the_dice(stop = MY_DICE_TODAY):\n",
    "    dice_result = random.randrange(1, stop)\n",
    "    print(f\"You got a {dice_result}!\")\n",
    "    \n",
    "    \n",
    "def roll_the_dice_many_times(stop = MY_DICE_TODAY, times = 1):\n",
    "    for i in range(times):\n",
    "        roll_the_dice(stop)\n",
    "\n"
   ]
  },
  {
   "cell_type": "code",
   "execution_count": 59,
   "metadata": {},
   "outputs": [
    {
     "name": "stdout",
     "output_type": "stream",
     "text": [
      "You got a 6!\n"
     ]
    }
   ],
   "source": [
    "roll_the_dice_many_times()"
   ]
  },
  {
   "cell_type": "code",
   "execution_count": 61,
   "metadata": {},
   "outputs": [
    {
     "name": "stdout",
     "output_type": "stream",
     "text": [
      "You got a 9!\n",
      "You got a 3!\n",
      "You got a 2!\n",
      "You got a 4!\n",
      "You got a 3!\n",
      "You got a 2!\n",
      "You got a 9!\n",
      "You got a 2!\n",
      "You got a 1!\n",
      "You got a 9!\n"
     ]
    }
   ],
   "source": [
    "roll_the_dice_many_times(times = 10)"
   ]
  },
  {
   "cell_type": "code",
   "execution_count": null,
   "metadata": {},
   "outputs": [],
   "source": []
  }
 ],
 "metadata": {
  "kernelspec": {
   "display_name": "Python 3",
   "language": "python",
   "name": "python3"
  },
  "language_info": {
   "codemirror_mode": {
    "name": "ipython",
    "version": 3
   },
   "file_extension": ".py",
   "mimetype": "text/x-python",
   "name": "python",
   "nbconvert_exporter": "python",
   "pygments_lexer": "ipython3",
   "version": "3.7.1"
  }
 },
 "nbformat": 4,
 "nbformat_minor": 2
}
